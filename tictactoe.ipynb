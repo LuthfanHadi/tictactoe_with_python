{
 "cells": [
  {
   "cell_type": "code",
   "execution_count": null,
   "id": "efd79835-4014-412b-bfc5-37fab449eccd",
   "metadata": {},
   "outputs": [],
   "source": [
    "from random import choice"
   ]
  },
  {
   "cell_type": "code",
   "execution_count": null,
   "id": "6de819b0-e2bb-495b-8023-af62e97439cd",
   "metadata": {},
   "outputs": [],
   "source": [
    "import numpy as np"
   ]
  },
  {
   "cell_type": "code",
   "execution_count": null,
   "id": "89a9fb40-f0dc-454c-a8cc-356f94f9425c",
   "metadata": {},
   "outputs": [],
   "source": [
    "combo_indices = [ \n",
    "    [0,1,2],\n",
    "    [3,4,5],\n",
    "    [6,7,8],\n",
    "    [0,3,6],\n",
    "    [1,4,7],\n",
    "    [2,5,8],\n",
    "    [0,4,8],\n",
    "    [2,4,6]\n",
    "]\n",
    "EMPTY_SIGN = '.'"
   ]
  },
  {
   "cell_type": "code",
   "execution_count": null,
   "id": "631da920-9606-4dfa-89fb-34677c4ab1ec",
   "metadata": {},
   "outputs": [],
   "source": [
    "def print_board(board):\n",
    "    print('')\n",
    "    print(''.join(board[:3]))\n",
    "    print(''.join(board[3:6]))\n",
    "    print(''.join(board[6:]))\n",
    "    print('')\n",
    "    "
   ]
  },
  {
   "cell_type": "code",
   "execution_count": 24,
   "id": "ce5320f7-6394-4054-a55b-fb65365f39c0",
   "metadata": {},
   "outputs": [
    {
     "name": "stdout",
     "output_type": "stream",
     "text": [
      "\n",
      "X..\n",
      ".O.\n",
      "X..\n",
      "\n"
     ]
    }
   ],
   "source": [
    "print_board('X...O.X..')"
   ]
  },
  {
   "cell_type": "code",
   "execution_count": 25,
   "id": "d9abf740-ab21-452d-ae82-43c5d1caea6e",
   "metadata": {},
   "outputs": [],
   "source": [
    "def oppoment_move(board,row, column,sign):\n",
    "    index = 3*(row-1)+(column-1)\n",
    "    if board[index] == EMPTY_SIGN:\n",
    "        return board[:index] + sign + board[index+1:]\n",
    "    return board"
   ]
  },
  {
   "cell_type": "code",
   "execution_count": 26,
   "id": "af4bdad7-319a-485c-936b-96b291217213",
   "metadata": {},
   "outputs": [],
   "source": [
    "def all_move_board(board,sign):\n",
    "    move_list = []\n",
    "    for i,v in enumerate(board):\n",
    "        if v == EMPTY_SIGN:\n",
    "            move_list.append(board[:i]+sign+board[i+1:])\n",
    "    return move_list"
   ]
  },
  {
   "cell_type": "code",
   "execution_count": 27,
   "id": "f1701735-5f07-4d54-8d5e-56e0985c97d1",
   "metadata": {},
   "outputs": [
    {
     "data": {
      "text/plain": [
       "['x........',\n",
       " '.x.......',\n",
       " '..x......',\n",
       " '...x.....',\n",
       " '....x....',\n",
       " '.....x...',\n",
       " '......x..',\n",
       " '.......x.',\n",
       " '........x']"
      ]
     },
     "execution_count": 27,
     "metadata": {},
     "output_type": "execute_result"
    }
   ],
   "source": [
    "all_move_board('.'*9,'x')"
   ]
  },
  {
   "cell_type": "code",
   "execution_count": 28,
   "id": "36e78f01-3f46-46f2-a496-f4000bfc93dd",
   "metadata": {},
   "outputs": [],
   "source": [
    "def ai_move(board,sign):\n",
    "    return choice(all_move_board(board,sign))"
   ]
  },
  {
   "cell_type": "code",
   "execution_count": 29,
   "id": "b1ff66e7-daee-42c6-bf12-255bf4d4a732",
   "metadata": {},
   "outputs": [
    {
     "data": {
      "text/plain": [
       "'....s...o'"
      ]
     },
     "execution_count": 29,
     "metadata": {},
     "output_type": "execute_result"
    }
   ],
   "source": [
    "ai_move('.'*8 + 'o','s')"
   ]
  },
  {
   "cell_type": "code",
   "execution_count": 30,
   "id": "28835ce7-f6d6-4809-8b86-35a7bd54d6ef",
   "metadata": {},
   "outputs": [],
   "source": [
    "def game_won_by(board):\n",
    "    for index in combo_indices:\n",
    "        if board[index[0]] == board[index[1]] == board[index[2]] != EMPTY_SIGN :\n",
    "            return board[index[0]]\n",
    "    return EMPTY_SIGN"
   ]
  },
  {
   "cell_type": "code",
   "execution_count": 31,
   "id": "cf7613a7-0795-4370-aeca-3717156d54f9",
   "metadata": {},
   "outputs": [
    {
     "data": {
      "text/plain": [
       "'x'"
      ]
     },
     "execution_count": 31,
     "metadata": {},
     "output_type": "execute_result"
    }
   ],
   "source": [
    "game_won_by('x'*3+'.'*6)"
   ]
  },
  {
   "cell_type": "code",
   "execution_count": 37,
   "id": "299dbcc6-6a04-46b4-b399-af23f1b42f8e",
   "metadata": {},
   "outputs": [],
   "source": [
    "def game_loop():\n",
    "    board = '.'*9\n",
    "    empty_board  = 9\n",
    "    game_is_end = False\n",
    "    SIGN = ['O','X']\n",
    "    OPPOMENT_SIGN = str(input('choice your sign (X/O) : ')).upper()\n",
    "    print('You choice ',OPPOMENT_SIGN)\n",
    "    AI_SIGN = [i for i in SIGN if i != OPPOMENT_SIGN][0]\n",
    "    while empty_board > 0 and not game_is_end:\n",
    "        if empty_board % 2 == 1:\n",
    "            board = ai_move(board,AI_SIGN)\n",
    "            print('by ai')\n",
    "        else :\n",
    "            row = int(input('row : '))\n",
    "            column = int(input('column : '))\n",
    "            board = oppoment_move(board,row,column,OPPOMENT_SIGN)\n",
    "            print('by user')\n",
    "        print_board(board)\n",
    "        empty_board = sum(1 for i in board if i == EMPTY_SIGN)\n",
    "        won = game_won_by(board)\n",
    "        game_is_end = won != EMPTY_SIGN\n",
    "        \n",
    "    print('game ended, the winner is ',won)"
   ]
  },
  {
   "cell_type": "code",
   "execution_count": 38,
   "id": "10db53f4-659e-49b7-9a6e-8244b3b02d66",
   "metadata": {},
   "outputs": [
    {
     "name": "stdin",
     "output_type": "stream",
     "text": [
      "choice your sign (X/O) :  o\n"
     ]
    },
    {
     "name": "stdout",
     "output_type": "stream",
     "text": [
      "You choice  O\n",
      "by ai\n",
      "\n",
      ".X.\n",
      "...\n",
      "...\n",
      "\n"
     ]
    },
    {
     "name": "stdin",
     "output_type": "stream",
     "text": [
      "row :  2\n",
      "column :  2\n"
     ]
    },
    {
     "name": "stdout",
     "output_type": "stream",
     "text": [
      "by user\n",
      "\n",
      ".X.\n",
      ".O.\n",
      "...\n",
      "\n",
      "by ai\n",
      "\n",
      ".X.\n",
      ".O.\n",
      ".X.\n",
      "\n"
     ]
    },
    {
     "name": "stdin",
     "output_type": "stream",
     "text": [
      "row :  3\n",
      "column :  1\n"
     ]
    },
    {
     "name": "stdout",
     "output_type": "stream",
     "text": [
      "by user\n",
      "\n",
      ".X.\n",
      ".O.\n",
      "OX.\n",
      "\n",
      "by ai\n",
      "\n",
      ".X.\n",
      ".OX\n",
      "OX.\n",
      "\n"
     ]
    },
    {
     "name": "stdin",
     "output_type": "stream",
     "text": [
      "row :  1\n",
      "column :  3\n"
     ]
    },
    {
     "name": "stdout",
     "output_type": "stream",
     "text": [
      "by user\n",
      "\n",
      ".XO\n",
      ".OX\n",
      "OX.\n",
      "\n",
      "game ended, the winner is  O\n"
     ]
    }
   ],
   "source": [
    "game_loop()"
   ]
  },
  {
   "cell_type": "code",
   "execution_count": null,
   "id": "a869689d-c5e6-4992-8608-c6979fa8129c",
   "metadata": {},
   "outputs": [],
   "source": []
  }
 ],
 "metadata": {
  "kernelspec": {
   "display_name": "Python 3 (ipykernel)",
   "language": "python",
   "name": "python3"
  },
  "language_info": {
   "codemirror_mode": {
    "name": "ipython",
    "version": 3
   },
   "file_extension": ".py",
   "mimetype": "text/x-python",
   "name": "python",
   "nbconvert_exporter": "python",
   "pygments_lexer": "ipython3",
   "version": "3.12.4"
  }
 },
 "nbformat": 4,
 "nbformat_minor": 5
}
